{
 "cells": [
  {
   "cell_type": "markdown",
   "id": "3fc45e84-5e78-48fd-aa9c-93ad30f0aa72",
   "metadata": {},
   "source": [
    "# Data Science Tools and Escosystem"
   ]
  },
  {
   "cell_type": "markdown",
   "id": "7d7e345f-1217-4c90-921a-01a053e07ea2",
   "metadata": {},
   "source": [
    "In this Notebook, Data Science Tools and Ecosystem are summarized"
   ]
  },
  {
   "cell_type": "markdown",
   "id": "49499b47-fc27-4f9e-9cce-931e39bf6bc4",
   "metadata": {},
   "source": [
    "Some of the popular language that data Scientists use are: \n",
    "1. Python\n",
    "2. Julia\n",
    "3. R\n",
    "4. Scala\n",
    "5. Java\n",
    "6. C/C++"
   ]
  },
  {
   "cell_type": "markdown",
   "id": "b15f5dad-1b09-40da-b059-b2534d24bc31",
   "metadata": {},
   "source": [
    "Some of the most commonly used libraries for data scientists are:\n",
    "1. Pandas\n",
    "2. Numpy\n",
    "3. Matplotlib\n",
    "4. Tensor Flow\n",
    "5. Pytorch "
   ]
  },
  {
   "cell_type": "markdown",
   "id": "0ec64223-5555-41ba-b395-5a70d5eddedb",
   "metadata": {},
   "source": [
    "|Data Science Tools| \n",
    "|------------------|\n",
    "| Jupyter Notebook | \n",
    "| VS code          | \n",
    "| R Studio         |\n",
    "| GitHub           |"
   ]
  },
  {
   "cell_type": "markdown",
   "id": "e53eaae0-47f5-4937-adf1-b62060eb890e",
   "metadata": {},
   "source": [
    "Below are a few example of evaluating arithmetic expressions in Python"
   ]
  },
  {
   "cell_type": "code",
   "execution_count": 12,
   "id": "268ff2db-7309-4a2a-969c-7cd4cc4c7670",
   "metadata": {},
   "outputs": [
    {
     "data": {
      "text/plain": [
       "17"
      ]
     },
     "execution_count": 12,
     "metadata": {},
     "output_type": "execute_result"
    }
   ],
   "source": [
    "#This is a simple arimethic expression to mutiply then add integers \n",
    "(3*4)+5"
   ]
  },
  {
   "cell_type": "code",
   "execution_count": 14,
   "id": "2c738606-0099-4fd3-ac67-ebd7d6496352",
   "metadata": {},
   "outputs": [
    {
     "data": {
      "text/plain": [
       "3.3333333333333335"
      ]
     },
     "execution_count": 14,
     "metadata": {},
     "output_type": "execute_result"
    }
   ],
   "source": [
    "# This will convert 200 minutes to hours by diving by 60\n",
    "hours = 200/60\n",
    "hours"
   ]
  },
  {
   "cell_type": "markdown",
   "id": "1831a1ea-b74d-4a9d-9553-ce6d5d9198da",
   "metadata": {},
   "source": [
    "In this notebook, we will work with fundamental tools and techniques to develop data science skills.  \n",
    "The main objectives are:\n",
    "\n",
    "* Explore and analyze datasets using Pandas.  \n",
    "* Apply basic data cleaning and transformation operations.  \n",
    "* Visualize relevant information with Matplotlib and Seaborn\n",
    "* Practice using functions and control structures in Python.  \n",
    "* Prepare data for machine learning models.  \n",
    "* Document the analysis process with well-structured text and code cells\n",
    "\n"
   ]
  },
  {
   "cell_type": "markdown",
   "id": "59e17671-90b4-4933-9150-7818aad7c572",
   "metadata": {},
   "source": [
    "# Autor \n",
    "## A. Kolker "
   ]
  },
  {
   "cell_type": "code",
   "execution_count": null,
   "id": "a4e0f4d1-315d-4f05-b95c-570dc7af2fb1",
   "metadata": {},
   "outputs": [],
   "source": []
  }
 ],
 "metadata": {
  "kernelspec": {
   "display_name": "Python [conda env:base] *",
   "language": "python",
   "name": "conda-base-py"
  },
  "language_info": {
   "codemirror_mode": {
    "name": "ipython",
    "version": 3
   },
   "file_extension": ".py",
   "mimetype": "text/x-python",
   "name": "python",
   "nbconvert_exporter": "python",
   "pygments_lexer": "ipython3",
   "version": "3.12.7"
  }
 },
 "nbformat": 4,
 "nbformat_minor": 5
}
